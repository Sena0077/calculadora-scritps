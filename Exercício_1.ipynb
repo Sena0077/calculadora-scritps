{
  "nbformat": 4,
  "nbformat_minor": 0,
  "metadata": {
    "colab": {
      "provenance": []
    },
    "kernelspec": {
      "name": "python3",
      "display_name": "Python 3"
    },
    "language_info": {
      "name": "python"
    }
  },
  "cells": [
    {
      "cell_type": "code",
      "execution_count": 1,
      "metadata": {
        "colab": {
          "base_uri": "https://localhost:8080/"
        },
        "id": "NFEYXHwmOAf7",
        "outputId": "1972dfd9-ca5c-429a-ee24-57c8507f4e76"
      },
      "outputs": [
        {
          "output_type": "stream",
          "name": "stdout",
          "text": [
            "Digite o primeiro número: 1\n",
            "Digite o segundo número: 2\n",
            "\n",
            "Escolha a operação:\n",
            "1 - Adição (+)\n",
            "2 - Subtração (-)\n",
            "3 - Multiplicação (*)\n",
            "4 - Divisão (/)\n",
            "5 - Sair\n",
            "Digite o número da operação desejada: 1\n",
            "Resultado: 1.0 + 2.0 = 3.0\n",
            "\n",
            "Escolha a operação:\n",
            "1 - Adição (+)\n",
            "2 - Subtração (-)\n",
            "3 - Multiplicação (*)\n",
            "4 - Divisão (/)\n",
            "5 - Sair\n",
            "Digite o número da operação desejada: 2\n",
            "Resultado: 1.0 - 2.0 = -1.0\n",
            "\n",
            "Escolha a operação:\n",
            "1 - Adição (+)\n",
            "2 - Subtração (-)\n",
            "3 - Multiplicação (*)\n",
            "4 - Divisão (/)\n",
            "5 - Sair\n",
            "Digite o número da operação desejada: 8\n",
            "Opção inválida. Escolha uma opção de 1 a 5.\n",
            "\n",
            "Escolha a operação:\n",
            "1 - Adição (+)\n",
            "2 - Subtração (-)\n",
            "3 - Multiplicação (*)\n",
            "4 - Divisão (/)\n",
            "5 - Sair\n",
            "Digite o número da operação desejada: 4\n",
            "Resultado: 1.0 / 2.0 = 0.5\n",
            "\n",
            "Escolha a operação:\n",
            "1 - Adição (+)\n",
            "2 - Subtração (-)\n",
            "3 - Multiplicação (*)\n",
            "4 - Divisão (/)\n",
            "5 - Sair\n",
            "Digite o número da operação desejada: 5\n",
            "Saindo...\n"
          ]
        }
      ],
      "source": [
        " #Solicita ao usuário dois números de entrada\n",
        "num1 = float(input(\"Digite o primeiro número: \"))\n",
        "num2 = float(input(\"Digite o segundo número: \"))\n",
        "\n",
        "# Loop para permitir múltiplas operações\n",
        "while True:\n",
        "    print(\"\\nEscolha a operação:\")\n",
        "    print(\"1 - Adição (+)\")\n",
        "    print(\"2 - Subtração (-)\")\n",
        "    print(\"3 - Multiplicação (*)\")\n",
        "    print(\"4 - Divisão (/)\")\n",
        "    print(\"5 - Sair\")\n",
        "\n",
        "    opcao = input(\"Digite o número da operação desejada: \")\n",
        "\n",
        "    # Executa a operação escolhida\n",
        "    if opcao == \"1\":\n",
        "        print(f\"Resultado: {num1} + {num2} = {num1 + num2}\")\n",
        "    elif opcao == \"2\":\n",
        "        print(f\"Resultado: {num1} - {num2} = {num1 - num2}\")\n",
        "    elif opcao == \"3\":\n",
        "        print(f\"Resultado: {num1} * {num2} = {num1 * num2}\")\n",
        "    elif opcao == \"4\":\n",
        "        if num2 != 0:\n",
        "            print(f\"Resultado: {num1} / {num2} = {num1 / num2}\")\n",
        "        else:\n",
        "            print(\"Erro: Divisão por zero não é permitida.\")\n",
        "    elif opcao == \"5\":\n",
        "        print(\"Saindo...\")\n",
        "        break\n",
        "    else:\n",
        "        print(\"Opção inválida. Escolha uma opção de 1 a 5.\")"
      ]
    }
  ]
}